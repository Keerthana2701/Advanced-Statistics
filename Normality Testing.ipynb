{
 "cells": [
  {
   "cell_type": "markdown",
   "id": "006e2244",
   "metadata": {},
   "source": [
    "## Normality Testing using Shapiro-Wilk Test"
   ]
  },
  {
   "cell_type": "code",
   "execution_count": 19,
   "id": "fdafc998",
   "metadata": {},
   "outputs": [],
   "source": [
    "import pandas as pd"
   ]
  },
  {
   "cell_type": "code",
   "execution_count": 20,
   "id": "bbea6e83",
   "metadata": {},
   "outputs": [],
   "source": [
    "data=pd.read_csv('winequality_red.csv')\n"
   ]
  },
  {
   "cell_type": "code",
   "execution_count": 21,
   "id": "f2db2880",
   "metadata": {},
   "outputs": [
    {
     "data": {
      "text/html": [
       "<div>\n",
       "<style scoped>\n",
       "    .dataframe tbody tr th:only-of-type {\n",
       "        vertical-align: middle;\n",
       "    }\n",
       "\n",
       "    .dataframe tbody tr th {\n",
       "        vertical-align: top;\n",
       "    }\n",
       "\n",
       "    .dataframe thead th {\n",
       "        text-align: right;\n",
       "    }\n",
       "</style>\n",
       "<table border=\"1\" class=\"dataframe\">\n",
       "  <thead>\n",
       "    <tr style=\"text-align: right;\">\n",
       "      <th></th>\n",
       "      <th>fixed acidity</th>\n",
       "      <th>volatile acidity</th>\n",
       "      <th>citric acid</th>\n",
       "      <th>residual sugar</th>\n",
       "      <th>chlorides</th>\n",
       "      <th>free sulfur dioxide</th>\n",
       "      <th>total sulfur dioxide</th>\n",
       "      <th>density</th>\n",
       "      <th>pH</th>\n",
       "      <th>sulphates</th>\n",
       "      <th>alcohol</th>\n",
       "      <th>quality</th>\n",
       "    </tr>\n",
       "  </thead>\n",
       "  <tbody>\n",
       "    <tr>\n",
       "      <th>0</th>\n",
       "      <td>7.4</td>\n",
       "      <td>0.70</td>\n",
       "      <td>0.00</td>\n",
       "      <td>1.9</td>\n",
       "      <td>0.076</td>\n",
       "      <td>11.0</td>\n",
       "      <td>34.0</td>\n",
       "      <td>0.9978</td>\n",
       "      <td>3.51</td>\n",
       "      <td>0.56</td>\n",
       "      <td>9.4</td>\n",
       "      <td>5</td>\n",
       "    </tr>\n",
       "    <tr>\n",
       "      <th>1</th>\n",
       "      <td>7.8</td>\n",
       "      <td>0.88</td>\n",
       "      <td>0.00</td>\n",
       "      <td>2.6</td>\n",
       "      <td>0.098</td>\n",
       "      <td>25.0</td>\n",
       "      <td>67.0</td>\n",
       "      <td>0.9968</td>\n",
       "      <td>3.20</td>\n",
       "      <td>0.68</td>\n",
       "      <td>9.8</td>\n",
       "      <td>5</td>\n",
       "    </tr>\n",
       "    <tr>\n",
       "      <th>2</th>\n",
       "      <td>7.8</td>\n",
       "      <td>0.76</td>\n",
       "      <td>0.04</td>\n",
       "      <td>2.3</td>\n",
       "      <td>0.092</td>\n",
       "      <td>15.0</td>\n",
       "      <td>54.0</td>\n",
       "      <td>0.9970</td>\n",
       "      <td>3.26</td>\n",
       "      <td>0.65</td>\n",
       "      <td>9.8</td>\n",
       "      <td>5</td>\n",
       "    </tr>\n",
       "    <tr>\n",
       "      <th>3</th>\n",
       "      <td>11.2</td>\n",
       "      <td>0.28</td>\n",
       "      <td>0.56</td>\n",
       "      <td>1.9</td>\n",
       "      <td>0.075</td>\n",
       "      <td>17.0</td>\n",
       "      <td>60.0</td>\n",
       "      <td>0.9980</td>\n",
       "      <td>3.16</td>\n",
       "      <td>0.58</td>\n",
       "      <td>9.8</td>\n",
       "      <td>6</td>\n",
       "    </tr>\n",
       "    <tr>\n",
       "      <th>4</th>\n",
       "      <td>7.4</td>\n",
       "      <td>0.70</td>\n",
       "      <td>0.00</td>\n",
       "      <td>1.9</td>\n",
       "      <td>0.076</td>\n",
       "      <td>11.0</td>\n",
       "      <td>34.0</td>\n",
       "      <td>0.9978</td>\n",
       "      <td>3.51</td>\n",
       "      <td>0.56</td>\n",
       "      <td>9.4</td>\n",
       "      <td>5</td>\n",
       "    </tr>\n",
       "  </tbody>\n",
       "</table>\n",
       "</div>"
      ],
      "text/plain": [
       "   fixed acidity  volatile acidity  citric acid  residual sugar  chlorides  \\\n",
       "0            7.4              0.70         0.00             1.9      0.076   \n",
       "1            7.8              0.88         0.00             2.6      0.098   \n",
       "2            7.8              0.76         0.04             2.3      0.092   \n",
       "3           11.2              0.28         0.56             1.9      0.075   \n",
       "4            7.4              0.70         0.00             1.9      0.076   \n",
       "\n",
       "   free sulfur dioxide  total sulfur dioxide  density    pH  sulphates  \\\n",
       "0                 11.0                  34.0   0.9978  3.51       0.56   \n",
       "1                 25.0                  67.0   0.9968  3.20       0.68   \n",
       "2                 15.0                  54.0   0.9970  3.26       0.65   \n",
       "3                 17.0                  60.0   0.9980  3.16       0.58   \n",
       "4                 11.0                  34.0   0.9978  3.51       0.56   \n",
       "\n",
       "   alcohol  quality  \n",
       "0      9.4        5  \n",
       "1      9.8        5  \n",
       "2      9.8        5  \n",
       "3      9.8        6  \n",
       "4      9.4        5  "
      ]
     },
     "execution_count": 21,
     "metadata": {},
     "output_type": "execute_result"
    }
   ],
   "source": [
    "data.head()"
   ]
  },
  {
   "cell_type": "code",
   "execution_count": 22,
   "id": "72f46e43",
   "metadata": {},
   "outputs": [],
   "source": [
    "import matplotlib\n",
    "from matplotlib import pyplot\n",
    "%matplotlib inline"
   ]
  },
  {
   "cell_type": "code",
   "execution_count": 23,
   "id": "d288181d",
   "metadata": {},
   "outputs": [
    {
     "data": {
      "image/png": "[encoded data removed]",
      "text/plain": [
       "<Figure size 1080x504 with 1 Axes>"
      ]
     },
     "metadata": {
      "needs_background": "light"
     },
     "output_type": "display_data"
    }
   ],
   "source": [
    "pyplot.figure(figsize=(15,7))\n",
    "pyplot.hist(data['volatile acidity'])\n",
    "pyplot.show()"
   ]
  },
  {
   "cell_type": "code",
   "execution_count": 24,
   "id": "16d3c589",
   "metadata": {},
   "outputs": [],
   "source": [
    "# we see data is not normally distributed"
   ]
  },
  {
   "cell_type": "code",
   "execution_count": 25,
   "id": "67a1c55c",
   "metadata": {},
   "outputs": [],
   "source": [
    "from scipy.stats import  shapiro"
   ]
  },
  {
   "cell_type": "code",
   "execution_count": 26,
   "id": "7a5e07e9",
   "metadata": {},
   "outputs": [],
   "source": [
    "data1=data['volatile acidity']"
   ]
  },
  {
   "cell_type": "code",
   "execution_count": 34,
   "id": "79a3ca1a",
   "metadata": {},
   "outputs": [],
   "source": [
    "stat,p= shapiro(data1)"
   ]
  },
  {
   "cell_type": "code",
   "execution_count": 28,
   "id": "8cfdbb09",
   "metadata": {},
   "outputs": [
    {
     "name": "stdout",
     "output_type": "stream",
     "text": [
      "0.9743340611457825 2.686806772838566e-16\n"
     ]
    }
   ],
   "source": [
    "print(stat,p)"
   ]
  },
  {
   "cell_type": "code",
   "execution_count": 29,
   "id": "c963db92",
   "metadata": {},
   "outputs": [
    {
     "name": "stdout",
     "output_type": "stream",
     "text": [
      "not normal\n"
     ]
    }
   ],
   "source": [
    "if p>0.05:\n",
    "    print(\"normally distributed\")\n",
    "else:\n",
    "    print(\"not normal\")"
   ]
  },
  {
   "cell_type": "code",
   "execution_count": 30,
   "id": "44c942fc",
   "metadata": {},
   "outputs": [],
   "source": [
    "# generate normal distributed random numbers\n",
    "\n",
    "from numpy.random import randn"
   ]
  },
  {
   "cell_type": "code",
   "execution_count": 31,
   "id": "7685a794",
   "metadata": {},
   "outputs": [],
   "source": [
    "data2=randn(100)"
   ]
  },
  {
   "cell_type": "code",
   "execution_count": 32,
   "id": "25f10079",
   "metadata": {},
   "outputs": [
    {
     "name": "stdout",
     "output_type": "stream",
     "text": [
      "0.9825724363327026 0.20977547764778137\n",
      "normally distributed\n"
     ]
    }
   ],
   "source": [
    "stat,p= shapiro(data2)\n",
    "print(stat,p)\n",
    "if p>0.05:\n",
    "    print(\"normally distributed\")\n",
    "else:\n",
    "    print(\"not normal\")"
   ]
  },
  {
   "cell_type": "markdown",
   "id": "a2c22f7b",
   "metadata": {},
   "source": [
    "## Normality Testing using K ^ 2 normality Test"
   ]
  },
  {
   "cell_type": "code",
   "execution_count": 33,
   "id": "889a9845",
   "metadata": {},
   "outputs": [],
   "source": [
    "from scipy.stats import normaltest"
   ]
  },
  {
   "cell_type": "code",
   "execution_count": 35,
   "id": "1c7c9e93",
   "metadata": {},
   "outputs": [],
   "source": [
    "data3=data['volatile acidity']"
   ]
  },
  {
   "cell_type": "code",
   "execution_count": 36,
   "id": "9f61434a",
   "metadata": {},
   "outputs": [],
   "source": [
    "stat,p= normaltest(data3)"
   ]
  },
  {
   "cell_type": "code",
   "execution_count": 37,
   "id": "8305823f",
   "metadata": {},
   "outputs": [
    {
     "name": "stdout",
     "output_type": "stream",
     "text": [
      "143.4193435598286 7.192589039756692e-32\n",
      "not normal\n"
     ]
    }
   ],
   "source": [
    "print(stat,p)\n",
    "if p>0.05:\n",
    "    print(\"normally distributed\")\n",
    "else:\n",
    "    print(\"not normal\")"
   ]
  },
  {
   "cell_type": "code",
   "execution_count": null,
   "id": "2b2ce18e",
   "metadata": {},
   "outputs": [],
   "source": []
  }
 ],
 "metadata": {
  "kernelspec": {
   "display_name": "Python 3",
   "language": "python",
   "name": "python3"
  },
  "language_info": {
   "codemirror_mode": {
    "name": "ipython",
    "version": 3
   },
   "file_extension": ".py",
   "mimetype": "text/x-python",
   "name": "python",
   "nbconvert_exporter": "python",
   "pygments_lexer": "ipython3",
   "version": "3.8.8"
  }
 },
 "nbformat": 4,
 "nbformat_minor": 5
}
